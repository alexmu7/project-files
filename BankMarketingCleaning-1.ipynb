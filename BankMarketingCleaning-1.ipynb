{
 "cells": [
  {
   "cell_type": "markdown",
   "id": "c1fbe4f2",
   "metadata": {},
   "source": [
    "# Banking Loan Informations\n",
    "\n",
    "Banking information and data reformatting \n",
    "\n",
    "## Goal\n",
    "\n",
    "I’ve been tasked with collaborating with a bank to clean data from a recent marketing campaign. It aimed to encourage customers to take out personal loans. The bank plans to run more campaigns in the future and wants me to ensure the data adheres to their specified structure and data types. This will allow them to use the cleaned data I provide to create a PostgreSQL database, which will store the current campaign’s data and enable easy importation of data from future campaigns.\n",
    "\n",
    "## Setup\n",
    "\n",
    "Importing the necessary libraries for the project"
   ]
  },
  {
   "cell_type": "code",
   "execution_count": null,
   "id": "45512b53",
   "metadata": {},
   "outputs": [],
   "source": [
    "import pandas as pd\n",
    "import numpy as np"
   ]
  },
  {
   "cell_type": "markdown",
   "id": "82ff7320",
   "metadata": {
    "vscode": {
     "languageId": "plaintext"
    }
   },
   "source": [
    "### Reading in Data and subsetting into three dataframes"
   ]
  },
  {
   "cell_type": "code",
   "execution_count": null,
   "id": "3191bbb4",
   "metadata": {},
   "outputs": [],
   "source": [
    "marketing = pd.read_csv(\"bank_marketing.csv\")\n",
    "\n",
    "# Subset the entire data file into three different tables for better visualization 'client', 'campaign','economics'\n",
    "client = marketing[[\"client_id\", \"age\", \"job\", \"marital\", \n",
    "                    \"education\", \"credit_default\", \"mortgage\"]]\n",
    "campaign = marketing[[\"client_id\", \"number_contacts\", \"month\", \"day\", \n",
    "               \"contact_duration\", \"previous_campaign_contacts\", \"previous_outcome\", \"campaign_outcome\"]]\n",
    "economics = marketing[[\"client_id\", \"cons_price_idx\", \"euribor_three_months\"]]"
   ]
  },
  {
   "cell_type": "markdown",
   "id": "f306dd5b",
   "metadata": {},
   "source": [
    "Editing Client Dataset"
   ]
  },
  {
   "cell_type": "code",
   "execution_count": null,
   "id": "30a80b46",
   "metadata": {},
   "outputs": [],
   "source": [
    "## Editing the client dataset\n",
    "# Clean education column\n",
    "client[\"education\"] = client[\"education\"].str.replace(\".\", \"_\")\n",
    "client[\"education\"] = client[\"education\"].replace(\"unknown\", np.NaN)\n",
    "\n",
    "# Clean job column\n",
    "client[\"job\"] = client[\"job\"].str.replace(\".\", \"_\")\n",
    "\n",
    "# Converting columns into desired data types\n",
    "for col in [\"credit_default\", \"mortgage\"]:\n",
    "  client[col] = client[col].map({\"yes\": 1,\n",
    "                                 \"no\": 0,\n",
    "                                 \"unknown\": 0})\n",
    "  client[col] = client[col].astype(bool)"
   ]
  },
  {
   "cell_type": "markdown",
   "id": "e3606d27",
   "metadata": {},
   "source": [
    "Editing campaign Dataset"
   ]
  },
  {
   "cell_type": "code",
   "execution_count": null,
   "id": "7ef253ac",
   "metadata": {},
   "outputs": [],
   "source": [
    "# Editing the campaign dataset\n",
    "# Change campaign_outcome to binary values\n",
    "campaign[\"campaign_outcome\"] = campaign[\"campaign_outcome\"].map({\"yes\": 1, \n",
    "                                                                 \"no\": 0})\n",
    "\n",
    "# Convert previous_outcome to binary values\n",
    "campaign[\"previous_outcome\"] = campaign[\"previous_outcome\"].map({\"success\": 1, \n",
    "                                                                 \"failure\": 0,\n",
    "                                                                 \"nonexistent\": 0})\n",
    "\n",
    "# Add year column\n",
    "campaign[\"year\"] = \"2022\"\n",
    "\n",
    "# Convert day to string data type\n",
    "campaign[\"day\"] = campaign[\"day\"].astype(str)\n",
    "\n",
    "# Add last_contact_date column\n",
    "campaign[\"last_contact_date\"] = campaign[\"year\"] + \"-\" + campaign[\"month\"] + \"-\" + campaign[\"day\"]\n",
    "\n",
    "# Convert to datetime\n",
    "campaign[\"last_contact_date\"] = pd.to_datetime(campaign[\"last_contact_date\"], \n",
    "                                               format=\"%Y-%b-%d\")\n",
    "\n",
    "# Clean and convert outcome columns to bool\n",
    "for col in [\"campaign_outcome\", \"previous_outcome\"]:\n",
    "  campaign[col] = campaign[col].astype(bool)\n",
    "\n",
    "# Drop unneccessary columns\n",
    "campaign.drop(columns=[\"month\", \"day\", \"year\"], inplace=True)"
   ]
  },
  {
   "cell_type": "markdown",
   "id": "c0994377",
   "metadata": {},
   "source": [
    "Finally, save the cleaned tables to csv files"
   ]
  },
  {
   "cell_type": "code",
   "execution_count": null,
   "id": "e337a6e7",
   "metadata": {},
   "outputs": [],
   "source": [
    "# Save tables to individual csv files\n",
    "client.to_csv(\"client.csv\", index=False)\n",
    "campaign.to_csv(\"campaign.csv\", index=False)\n",
    "economics.to_csv(\"economics.csv\", index=False)"
   ]
  }
 ],
 "metadata": {
  "language_info": {
   "name": "python"
  }
 },
 "nbformat": 4,
 "nbformat_minor": 5
}
