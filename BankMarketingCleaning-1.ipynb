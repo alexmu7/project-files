{
 "cells": [
  {
   "cell_type": "markdown",
   "id": "c1fbe4f2",
   "metadata": {},
   "source": [
    "# Title\n",
    "\n",
    "*explanation*\n",
    "\n",
    "## Goal\n",
    "\n",
    "blahblah\n",
    "\n",
    "## Setup\n",
    "\n"
   ]
  },
  {
   "cell_type": "markdown",
   "id": "d322e0bc",
   "metadata": {},
   "source": []
  }
 ],
 "metadata": {
  "language_info": {
   "name": "python"
  }
 },
 "nbformat": 4,
 "nbformat_minor": 5
}
